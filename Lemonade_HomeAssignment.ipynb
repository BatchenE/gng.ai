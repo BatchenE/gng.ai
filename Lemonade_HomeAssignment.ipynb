{
 "cells": [
  {
   "cell_type": "code",
   "execution_count": 551,
   "metadata": {
    "ExecuteTime": {
     "end_time": "2021-01-08T13:44:36.011920Z",
     "start_time": "2021-01-08T13:44:36.005509Z"
    },
    "code_folding": []
   },
   "outputs": [],
   "source": [
    "# imports\n",
    "import numpy as np\n",
    "import pandas as pd\n",
    "import math\n",
    "\n",
    "import matplotlib.pyplot as plt\n",
    "import seaborn as sns\n",
    "\n",
    "import warnings\n",
    "warnings.filterwarnings('ignore')\n",
    "import pickle"
   ]
  },
  {
   "cell_type": "code",
   "execution_count": 2,
   "metadata": {
    "ExecuteTime": {
     "end_time": "2021-01-07T11:55:23.671971Z",
     "start_time": "2021-01-07T11:55:23.521317Z"
    }
   },
   "outputs": [
    {
     "data": {
      "text/html": [
       "<div>\n",
       "<style scoped>\n",
       "    .dataframe tbody tr th:only-of-type {\n",
       "        vertical-align: middle;\n",
       "    }\n",
       "\n",
       "    .dataframe tbody tr th {\n",
       "        vertical-align: top;\n",
       "    }\n",
       "\n",
       "    .dataframe thead th {\n",
       "        text-align: right;\n",
       "    }\n",
       "</style>\n",
       "<table border=\"1\" class=\"dataframe\">\n",
       "  <thead>\n",
       "    <tr style=\"text-align: right;\">\n",
       "      <th></th>\n",
       "      <th>id</th>\n",
       "      <th>state</th>\n",
       "      <th>postal_code</th>\n",
       "      <th>product</th>\n",
       "      <th>user_id</th>\n",
       "      <th>square_ft</th>\n",
       "      <th>high_risk_dog</th>\n",
       "      <th>has_fire_alarm</th>\n",
       "      <th>has_burglar_alarm</th>\n",
       "      <th>portable_electronics</th>\n",
       "      <th>coast</th>\n",
       "      <th>fire_housing_proximity</th>\n",
       "      <th>previous_policies</th>\n",
       "      <th>user_age</th>\n",
       "      <th>card_type</th>\n",
       "      <th>target</th>\n",
       "    </tr>\n",
       "  </thead>\n",
       "  <tbody>\n",
       "    <tr>\n",
       "      <th>0</th>\n",
       "      <td>2492008697672104938</td>\n",
       "      <td>NM</td>\n",
       "      <td>87043</td>\n",
       "      <td>ho4</td>\n",
       "      <td>-9160046293075786063</td>\n",
       "      <td>NaN</td>\n",
       "      <td>0</td>\n",
       "      <td>True</td>\n",
       "      <td>True</td>\n",
       "      <td>0.0</td>\n",
       "      <td>NaN</td>\n",
       "      <td>5</td>\n",
       "      <td>0</td>\n",
       "      <td>39.0</td>\n",
       "      <td>credit</td>\n",
       "      <td>False</td>\n",
       "    </tr>\n",
       "    <tr>\n",
       "      <th>1</th>\n",
       "      <td>886075317023782670</td>\n",
       "      <td>WI</td>\n",
       "      <td>53715</td>\n",
       "      <td>ho4</td>\n",
       "      <td>-8929003830875133003</td>\n",
       "      <td>NaN</td>\n",
       "      <td>0</td>\n",
       "      <td>True</td>\n",
       "      <td>False</td>\n",
       "      <td>1.0</td>\n",
       "      <td>30.0</td>\n",
       "      <td>1</td>\n",
       "      <td>0</td>\n",
       "      <td>19.0</td>\n",
       "      <td>debit</td>\n",
       "      <td>False</td>\n",
       "    </tr>\n",
       "    <tr>\n",
       "      <th>2</th>\n",
       "      <td>5527292118261850881</td>\n",
       "      <td>WI</td>\n",
       "      <td>53211</td>\n",
       "      <td>ho4</td>\n",
       "      <td>-9015977226434470133</td>\n",
       "      <td>NaN</td>\n",
       "      <td>0</td>\n",
       "      <td>True</td>\n",
       "      <td>False</td>\n",
       "      <td>1.0</td>\n",
       "      <td>1.0</td>\n",
       "      <td>1</td>\n",
       "      <td>0</td>\n",
       "      <td>20.0</td>\n",
       "      <td>debit</td>\n",
       "      <td>True</td>\n",
       "    </tr>\n",
       "    <tr>\n",
       "      <th>3</th>\n",
       "      <td>6453397743269682220</td>\n",
       "      <td>NM</td>\n",
       "      <td>88012</td>\n",
       "      <td>ho4</td>\n",
       "      <td>-9060026899039337265</td>\n",
       "      <td>NaN</td>\n",
       "      <td>0</td>\n",
       "      <td>True</td>\n",
       "      <td>True</td>\n",
       "      <td>1.0</td>\n",
       "      <td>NaN</td>\n",
       "      <td>1</td>\n",
       "      <td>0</td>\n",
       "      <td>33.0</td>\n",
       "      <td>debit</td>\n",
       "      <td>False</td>\n",
       "    </tr>\n",
       "    <tr>\n",
       "      <th>4</th>\n",
       "      <td>-8836394806705049849</td>\n",
       "      <td>AR</td>\n",
       "      <td>72116</td>\n",
       "      <td>ho4</td>\n",
       "      <td>-8801719090048493625</td>\n",
       "      <td>NaN</td>\n",
       "      <td>0</td>\n",
       "      <td>False</td>\n",
       "      <td>False</td>\n",
       "      <td>1.0</td>\n",
       "      <td>NaN</td>\n",
       "      <td>1</td>\n",
       "      <td>0</td>\n",
       "      <td>20.0</td>\n",
       "      <td>debit</td>\n",
       "      <td>False</td>\n",
       "    </tr>\n",
       "  </tbody>\n",
       "</table>\n",
       "</div>"
      ],
      "text/plain": [
       "                    id state  postal_code product              user_id  \\\n",
       "0  2492008697672104938    NM        87043     ho4 -9160046293075786063   \n",
       "1   886075317023782670    WI        53715     ho4 -8929003830875133003   \n",
       "2  5527292118261850881    WI        53211     ho4 -9015977226434470133   \n",
       "3  6453397743269682220    NM        88012     ho4 -9060026899039337265   \n",
       "4 -8836394806705049849    AR        72116     ho4 -8801719090048493625   \n",
       "\n",
       "   square_ft  high_risk_dog  has_fire_alarm  has_burglar_alarm  \\\n",
       "0        NaN              0            True               True   \n",
       "1        NaN              0            True              False   \n",
       "2        NaN              0            True              False   \n",
       "3        NaN              0            True               True   \n",
       "4        NaN              0           False              False   \n",
       "\n",
       "   portable_electronics  coast fire_housing_proximity  previous_policies  \\\n",
       "0                   0.0    NaN                      5                  0   \n",
       "1                   1.0   30.0                      1                  0   \n",
       "2                   1.0    1.0                      1                  0   \n",
       "3                   1.0    NaN                      1                  0   \n",
       "4                   1.0    NaN                      1                  0   \n",
       "\n",
       "   user_age card_type  target  \n",
       "0      39.0    credit   False  \n",
       "1      19.0     debit   False  \n",
       "2      20.0     debit    True  \n",
       "3      33.0     debit   False  \n",
       "4      20.0     debit   False  "
      ]
     },
     "execution_count": 2,
     "metadata": {},
     "output_type": "execute_result"
    }
   ],
   "source": [
    "df_data= pd.read_csv('lemonade_ds_coding_task_data_(2).csv')\n",
    "df_data.head()"
   ]
  },
  {
   "cell_type": "markdown",
   "metadata": {},
   "source": [
    "To Avoid data leakage we'll **split the df to train-validation-test**:\n",
    "- marking each index tr/val/ts\n",
    "- Exploration & feature engineering based on tr rows \n",
    "- training model on tr-val, final model varified with ts"
   ]
  },
  {
   "cell_type": "code",
   "execution_count": 3,
   "metadata": {
    "ExecuteTime": {
     "end_time": "2021-01-07T11:55:23.715183Z",
     "start_time": "2021-01-07T11:55:23.679583Z"
    }
   },
   "outputs": [
    {
     "data": {
      "text/plain": [
       "tr     0.753489\n",
       "val    0.152779\n",
       "ts     0.093732\n",
       "Name: df_type, dtype: float64"
      ]
     },
     "execution_count": 3,
     "metadata": {},
     "output_type": "execute_result"
    }
   ],
   "source": [
    "split_idx= np.random.choice(range(3),len(df_data),p=[0.75,0.15,0.1])\n",
    "df_data['df_type']=np.where(split_idx==0,'tr',np.where(split_idx==1,'val','ts'))\n",
    "\n",
    "df_data.df_type.value_counts(normalize=True)"
   ]
  },
  {
   "cell_type": "markdown",
   "metadata": {},
   "source": [
    "## data processing & exploration"
   ]
  },
  {
   "cell_type": "code",
   "execution_count": 4,
   "metadata": {
    "ExecuteTime": {
     "end_time": "2021-01-07T11:55:23.769034Z",
     "start_time": "2021-01-07T11:55:23.722534Z"
    }
   },
   "outputs": [],
   "source": [
    "df= df_data.loc[df_data.df_type=='tr'] #train df for exploration & feature engineering ref. \n",
    "df['user_age_gr']= df.user_age.dropna().apply(lambda x: int(math.ceil(x/10))*10)"
   ]
  },
  {
   "cell_type": "markdown",
   "metadata": {},
   "source": [
    "### some exploration to \"feel\" the data"
   ]
  },
  {
   "cell_type": "code",
   "execution_count": 5,
   "metadata": {
    "ExecuteTime": {
     "end_time": "2021-01-07T11:55:23.796234Z",
     "start_time": "2021-01-07T11:55:23.778908Z"
    }
   },
   "outputs": [
    {
     "data": {
      "text/plain": [
       "False    0.976662\n",
       "True     0.023338\n",
       "Name: target, dtype: float64"
      ]
     },
     "metadata": {},
     "output_type": "display_data"
    },
    {
     "name": "stdout",
     "output_type": "stream",
     "text": [
      "Our labels are very imbalanced\n"
     ]
    }
   ],
   "source": [
    "display(df.target.value_counts(normalize=True))\n",
    "print('Our labels are very imbalanced')"
   ]
  },
  {
   "cell_type": "code",
   "execution_count": 6,
   "metadata": {
    "ExecuteTime": {
     "end_time": "2021-01-07T11:55:24.849046Z",
     "start_time": "2021-01-07T11:55:23.800640Z"
    }
   },
   "outputs": [
    {
     "data": {
      "image/png": "[encoded data removed]",
      "text/plain": [
       "<Figure size 1296x360 with 3 Axes>"
      ]
     },
     "metadata": {},
     "output_type": "display_data"
    }
   ],
   "source": [
    "# proportion of things: % of product policies , % of state + claim % annotate , % by age group\n",
    "\n",
    "fig, ax= plt.subplots(1,3, figsize=(18,5))\n",
    "\n",
    "ax[0].pie(df['state'].value_counts(),\n",
    "        labels=['p: '+str(e) for e in (df.groupby('state').target.mean().loc[df['state'].value_counts().index]*100).round(2)],\n",
    "        autopct='%1.1f%%', shadow=True,  pctdistance=1.2, labeldistance=1.4,  radius=0.8)\n",
    "ax[0].legend(labels= df['state'].value_counts().head(7).index, loc=\"center\")\n",
    "# change the legend to be with the values\n",
    "ax[0].set_title('Policies dist. per state')\n",
    "\n",
    "ax[1].pie(df['user_age_gr'].value_counts(),\n",
    "        labels=['p: '+str(e) for e in (df.groupby('user_age_gr').target.mean().loc[df['user_age_gr'].value_counts().index]*100).round(2)],\n",
    "        autopct='%1.1f%%', shadow=True,  pctdistance=1.2, labeldistance=1.4,  radius=0.8)\n",
    "ax[1].legend(labels= df['user_age_gr'].value_counts().head(7).index, loc=\"center\")\n",
    "ax[1].set_title('Policies dist. per age group')\n",
    "\n",
    "ax[2].pie(df['product'].value_counts(),\n",
    "        labels=['p: '+str(e) for e in (df.groupby('product').target.mean().loc[df['product'].value_counts().index]*100).round(1)],\n",
    "        explode= [.1,0,.1],autopct='%1.1f%%', shadow=True,  pctdistance=1.2, labeldistance=1.4,  radius=0.8)\n",
    "ax[2].legend(labels= df['product'].value_counts().index, loc=\"center\")\n",
    "ax[2].set_title('Policies dist. per product');\n",
    "\n"
   ]
  },
  {
   "cell_type": "markdown",
   "metadata": {},
   "source": [
    "> - Product type: vast majority of the policies are of ho6 with claim prob of 2.2% \n",
    "- users ages: most of the policy purchasers are 30-50. more than 50% of the users are in their 30s, with 2.15% chance of claim, while the 25% of users in their 40s have 2.7% chance of claim. "
   ]
  },
  {
   "cell_type": "code",
   "execution_count": 655,
   "metadata": {
    "ExecuteTime": {
     "end_time": "2021-01-08T15:58:56.114347Z",
     "start_time": "2021-01-08T15:58:55.540004Z"
    }
   },
   "outputs": [
    {
     "data": {
      "image/png": "[encoded data removed]",
      "text/plain": [
       "<Figure size 648x432 with 1 Axes>"
      ]
     },
     "metadata": {},
     "output_type": "display_data"
    }
   ],
   "source": [
    "p_df= pd.concat([df.groupby('has_fire_alarm').target.mean().reset_index().melt(id_vars='target'),\n",
    "           df.groupby('has_burglar_alarm').target.mean().reset_index().melt(id_vars='target'),\n",
    "           df.groupby('portable_electronics').target.mean().reset_index().melt(id_vars='target'),\n",
    "           df.assign(is_returning_user= df.previous_policies>1).groupby('is_returning_user').target.mean().reset_index().melt(id_vars='target')])\n",
    "\n",
    "g= sns.barplot(x='variable',y='target',hue='value',data=p_df)\n",
    "\n",
    "for p in g.patches: \n",
    "    g.annotate(format(p.get_height(),'.1%'), \n",
    "                   (p.get_x() + p.get_width() / 2., p.get_height()), \n",
    "                   ha='center', va='center', \n",
    "                   xytext=(0, 9), \n",
    "                   textcoords='offset points')\n",
    "g.axes.get_yaxis().set_visible(False)\n",
    "g.legend(loc='center left', bbox_to_anchor=(1, 0.5),title='Class');"
   ]
  },
  {
   "cell_type": "markdown",
   "metadata": {
    "ExecuteTime": {
     "end_time": "2021-01-08T14:08:07.377855Z",
     "start_time": "2021-01-08T14:08:07.342090Z"
    }
   },
   "source": [
    "> - Having portable electorincs seems to increase claim prob (2.7% vs 1.9%)\n",
    "- New users have more claims relativly to a returning user with past policies. this is interesting, could suggest fraud (otherwise why would i.e 2nd time policy have less prob than 1st time policy?)\n",
    "- it's interesting that there are more burglaries (and claims) when there is a burglary alarm. could suggest high burglary areas will have a burglary alarm, more than the alarm scarying off the burglers..."
   ]
  },
  {
   "cell_type": "markdown",
   "metadata": {},
   "source": [
    "### missing values"
   ]
  },
  {
   "cell_type": "code",
   "execution_count": 9,
   "metadata": {
    "ExecuteTime": {
     "end_time": "2021-01-07T11:55:25.075350Z",
     "start_time": "2021-01-07T11:55:24.984577Z"
    }
   },
   "outputs": [
    {
     "data": {
      "text/html": [
       "<div>\n",
       "<style scoped>\n",
       "    .dataframe tbody tr th:only-of-type {\n",
       "        vertical-align: middle;\n",
       "    }\n",
       "\n",
       "    .dataframe tbody tr th {\n",
       "        vertical-align: top;\n",
       "    }\n",
       "\n",
       "    .dataframe thead th {\n",
       "        text-align: right;\n",
       "    }\n",
       "</style>\n",
       "<table border=\"1\" class=\"dataframe\">\n",
       "  <thead>\n",
       "    <tr style=\"text-align: right;\">\n",
       "      <th></th>\n",
       "      <th>square_ft</th>\n",
       "      <th>coast</th>\n",
       "      <th>portable_electronics</th>\n",
       "      <th>user_age_gr</th>\n",
       "      <th>user_age</th>\n",
       "      <th>card_type</th>\n",
       "      <th>high_risk_dog</th>\n",
       "      <th>state</th>\n",
       "      <th>postal_code</th>\n",
       "      <th>product</th>\n",
       "      <th>user_id</th>\n",
       "      <th>has_burglar_alarm</th>\n",
       "      <th>has_fire_alarm</th>\n",
       "      <th>df_type</th>\n",
       "      <th>fire_housing_proximity</th>\n",
       "      <th>previous_policies</th>\n",
       "      <th>target</th>\n",
       "      <th>id</th>\n",
       "    </tr>\n",
       "  </thead>\n",
       "  <tbody>\n",
       "    <tr>\n",
       "      <th>0</th>\n",
       "      <td>0.978696</td>\n",
       "      <td>0.092281</td>\n",
       "      <td>0.03308</td>\n",
       "      <td>0.006316</td>\n",
       "      <td>0.006316</td>\n",
       "      <td>0.004175</td>\n",
       "      <td>0.0</td>\n",
       "      <td>0.0</td>\n",
       "      <td>0.0</td>\n",
       "      <td>0.0</td>\n",
       "      <td>0.0</td>\n",
       "      <td>0.0</td>\n",
       "      <td>0.0</td>\n",
       "      <td>0.0</td>\n",
       "      <td>0.0</td>\n",
       "      <td>0.0</td>\n",
       "      <td>0.0</td>\n",
       "      <td>0.0</td>\n",
       "    </tr>\n",
       "  </tbody>\n",
       "</table>\n",
       "</div>"
      ],
      "text/plain": [
       "   square_ft     coast  portable_electronics  user_age_gr  user_age  \\\n",
       "0   0.978696  0.092281               0.03308     0.006316  0.006316   \n",
       "\n",
       "   card_type  high_risk_dog  state  postal_code  product  user_id  \\\n",
       "0   0.004175            0.0    0.0          0.0      0.0      0.0   \n",
       "\n",
       "   has_burglar_alarm  has_fire_alarm  df_type  fire_housing_proximity  \\\n",
       "0                0.0             0.0      0.0                     0.0   \n",
       "\n",
       "   previous_policies  target   id  \n",
       "0                0.0     0.0  0.0  "
      ]
     },
     "metadata": {},
     "output_type": "display_data"
    },
    {
     "name": "stdout",
     "output_type": "stream",
     "text": [
      "we have 6 features with missing values. lets examine how to handle each\n"
     ]
    }
   ],
   "source": [
    "display(df.isna().mean().sort_values(ascending=False).to_frame().T)\n",
    "print(f'we have {sum(df.isna().mean()>0)} features with missing values. lets examine how to handle each')"
   ]
  },
  {
   "cell_type": "code",
   "execution_count": 10,
   "metadata": {
    "ExecuteTime": {
     "end_time": "2021-01-07T11:55:25.137888Z",
     "start_time": "2021-01-07T11:55:25.079681Z"
    }
   },
   "outputs": [
    {
     "data": {
      "text/html": [
       "<div>\n",
       "<style scoped>\n",
       "    .dataframe tbody tr th:only-of-type {\n",
       "        vertical-align: middle;\n",
       "    }\n",
       "\n",
       "    .dataframe tbody tr th {\n",
       "        vertical-align: top;\n",
       "    }\n",
       "\n",
       "    .dataframe thead th {\n",
       "        text-align: right;\n",
       "    }\n",
       "</style>\n",
       "<table border=\"1\" class=\"dataframe\">\n",
       "  <thead>\n",
       "    <tr style=\"text-align: right;\">\n",
       "      <th>coast</th>\n",
       "      <th>False</th>\n",
       "      <th>True</th>\n",
       "      <th>is_coast_state</th>\n",
       "    </tr>\n",
       "    <tr>\n",
       "      <th>state</th>\n",
       "      <th></th>\n",
       "      <th></th>\n",
       "      <th></th>\n",
       "    </tr>\n",
       "  </thead>\n",
       "  <tbody>\n",
       "    <tr>\n",
       "      <th>AR</th>\n",
       "      <td>0.000000</td>\n",
       "      <td>1.000000</td>\n",
       "      <td>0</td>\n",
       "    </tr>\n",
       "    <tr>\n",
       "      <th>AZ</th>\n",
       "      <td>0.000000</td>\n",
       "      <td>1.000000</td>\n",
       "      <td>0</td>\n",
       "    </tr>\n",
       "    <tr>\n",
       "      <th>CA</th>\n",
       "      <td>1.000000</td>\n",
       "      <td>0.000000</td>\n",
       "      <td>1</td>\n",
       "    </tr>\n",
       "    <tr>\n",
       "      <th>CT</th>\n",
       "      <td>1.000000</td>\n",
       "      <td>0.000000</td>\n",
       "      <td>1</td>\n",
       "    </tr>\n",
       "    <tr>\n",
       "      <th>DC</th>\n",
       "      <td>0.019231</td>\n",
       "      <td>0.980769</td>\n",
       "      <td>0</td>\n",
       "    </tr>\n",
       "    <tr>\n",
       "      <th>GA</th>\n",
       "      <td>1.000000</td>\n",
       "      <td>0.000000</td>\n",
       "      <td>1</td>\n",
       "    </tr>\n",
       "    <tr>\n",
       "      <th>IA</th>\n",
       "      <td>0.000000</td>\n",
       "      <td>1.000000</td>\n",
       "      <td>0</td>\n",
       "    </tr>\n",
       "    <tr>\n",
       "      <th>IL</th>\n",
       "      <td>1.000000</td>\n",
       "      <td>0.000000</td>\n",
       "      <td>1</td>\n",
       "    </tr>\n",
       "    <tr>\n",
       "      <th>IN</th>\n",
       "      <td>1.000000</td>\n",
       "      <td>0.000000</td>\n",
       "      <td>1</td>\n",
       "    </tr>\n",
       "    <tr>\n",
       "      <th>MD</th>\n",
       "      <td>1.000000</td>\n",
       "      <td>0.000000</td>\n",
       "      <td>1</td>\n",
       "    </tr>\n",
       "    <tr>\n",
       "      <th>MI</th>\n",
       "      <td>0.000000</td>\n",
       "      <td>1.000000</td>\n",
       "      <td>0</td>\n",
       "    </tr>\n",
       "    <tr>\n",
       "      <th>NJ</th>\n",
       "      <td>1.000000</td>\n",
       "      <td>0.000000</td>\n",
       "      <td>1</td>\n",
       "    </tr>\n",
       "    <tr>\n",
       "      <th>NM</th>\n",
       "      <td>0.000000</td>\n",
       "      <td>1.000000</td>\n",
       "      <td>0</td>\n",
       "    </tr>\n",
       "    <tr>\n",
       "      <th>NV</th>\n",
       "      <td>0.000000</td>\n",
       "      <td>1.000000</td>\n",
       "      <td>0</td>\n",
       "    </tr>\n",
       "    <tr>\n",
       "      <th>NY</th>\n",
       "      <td>1.000000</td>\n",
       "      <td>0.000000</td>\n",
       "      <td>1</td>\n",
       "    </tr>\n",
       "    <tr>\n",
       "      <th>OH</th>\n",
       "      <td>0.000000</td>\n",
       "      <td>1.000000</td>\n",
       "      <td>0</td>\n",
       "    </tr>\n",
       "    <tr>\n",
       "      <th>OR</th>\n",
       "      <td>1.000000</td>\n",
       "      <td>0.000000</td>\n",
       "      <td>1</td>\n",
       "    </tr>\n",
       "    <tr>\n",
       "      <th>PA</th>\n",
       "      <td>0.013245</td>\n",
       "      <td>0.986755</td>\n",
       "      <td>0</td>\n",
       "    </tr>\n",
       "    <tr>\n",
       "      <th>RI</th>\n",
       "      <td>1.000000</td>\n",
       "      <td>0.000000</td>\n",
       "      <td>1</td>\n",
       "    </tr>\n",
       "    <tr>\n",
       "      <th>TX</th>\n",
       "      <td>1.000000</td>\n",
       "      <td>0.000000</td>\n",
       "      <td>1</td>\n",
       "    </tr>\n",
       "    <tr>\n",
       "      <th>WI</th>\n",
       "      <td>1.000000</td>\n",
       "      <td>0.000000</td>\n",
       "      <td>1</td>\n",
       "    </tr>\n",
       "  </tbody>\n",
       "</table>\n",
       "</div>"
      ],
      "text/plain": [
       "coast     False      True  is_coast_state\n",
       "state                                    \n",
       "AR     0.000000  1.000000               0\n",
       "AZ     0.000000  1.000000               0\n",
       "CA     1.000000  0.000000               1\n",
       "CT     1.000000  0.000000               1\n",
       "DC     0.019231  0.980769               0\n",
       "GA     1.000000  0.000000               1\n",
       "IA     0.000000  1.000000               0\n",
       "IL     1.000000  0.000000               1\n",
       "IN     1.000000  0.000000               1\n",
       "MD     1.000000  0.000000               1\n",
       "MI     0.000000  1.000000               0\n",
       "NJ     1.000000  0.000000               1\n",
       "NM     0.000000  1.000000               0\n",
       "NV     0.000000  1.000000               0\n",
       "NY     1.000000  0.000000               1\n",
       "OH     0.000000  1.000000               0\n",
       "OR     1.000000  0.000000               1\n",
       "PA     0.013245  0.986755               0\n",
       "RI     1.000000  0.000000               1\n",
       "TX     1.000000  0.000000               1\n",
       "WI     1.000000  0.000000               1"
      ]
     },
     "metadata": {},
     "output_type": "display_data"
    }
   ],
   "source": [
    "# coast distance \n",
    "# first lets see per state where we have missing coast dist values \n",
    "states_is_coast= df.groupby(['state',df.coast.isna()]).size().unstack().fillna(0)\\\n",
    ".apply(lambda x: x.div(x.sum()),axis=1)\n",
    "\n",
    "# seems like most states either should have coast distance value or they don't . lets classify them by % of records. \n",
    "states_is_coast= states_is_coast.assign(is_coast_state= lambda x: np.where(x[True]==1, 0, np.where(x[False]==1, 1, np.where(x[False]<.1,0,1))))\n",
    "display(states_is_coast)\n",
    "\n",
    "coast_state_dict= states_is_coast.is_coast_state.to_dict()"
   ]
  },
  {
   "cell_type": "code",
   "execution_count": 11,
   "metadata": {
    "ExecuteTime": {
     "end_time": "2021-01-07T11:55:26.075978Z",
     "start_time": "2021-01-07T11:55:25.160593Z"
    }
   },
   "outputs": [
    {
     "data": {
      "image/png": "[encoded data removed]",
      "text/plain": [
       "<Figure size 648x432 with 1 Axes>"
      ]
     },
     "metadata": {},
     "output_type": "display_data"
    },
    {
     "data": {
      "text/html": [
       "<div>\n",
       "<style scoped>\n",
       "    .dataframe tbody tr th:only-of-type {\n",
       "        vertical-align: middle;\n",
       "    }\n",
       "\n",
       "    .dataframe tbody tr th {\n",
       "        vertical-align: top;\n",
       "    }\n",
       "\n",
       "    .dataframe thead th {\n",
       "        text-align: right;\n",
       "    }\n",
       "</style>\n",
       "<table border=\"1\" class=\"dataframe\">\n",
       "  <thead>\n",
       "    <tr style=\"text-align: right;\">\n",
       "      <th></th>\n",
       "      <th>CA</th>\n",
       "      <th>TX</th>\n",
       "      <th>NY</th>\n",
       "      <th>IL</th>\n",
       "      <th>NJ</th>\n",
       "      <th>GA</th>\n",
       "      <th>OH</th>\n",
       "      <th>NV</th>\n",
       "      <th>PA</th>\n",
       "      <th>AZ</th>\n",
       "      <th>...</th>\n",
       "      <th>OR</th>\n",
       "      <th>MD</th>\n",
       "      <th>DC</th>\n",
       "      <th>WI</th>\n",
       "      <th>IA</th>\n",
       "      <th>NM</th>\n",
       "      <th>CT</th>\n",
       "      <th>RI</th>\n",
       "      <th>AR</th>\n",
       "      <th>IN</th>\n",
       "    </tr>\n",
       "  </thead>\n",
       "  <tbody>\n",
       "    <tr>\n",
       "      <th>state</th>\n",
       "      <td>0.305214</td>\n",
       "      <td>0.270207</td>\n",
       "      <td>0.180602</td>\n",
       "      <td>0.064982</td>\n",
       "      <td>0.03308</td>\n",
       "      <td>0.030511</td>\n",
       "      <td>0.026764</td>\n",
       "      <td>0.016701</td>\n",
       "      <td>0.016165</td>\n",
       "      <td>0.01381</td>\n",
       "      <td>...</td>\n",
       "      <td>0.008564</td>\n",
       "      <td>0.00653</td>\n",
       "      <td>0.005567</td>\n",
       "      <td>0.004496</td>\n",
       "      <td>0.002355</td>\n",
       "      <td>0.00182</td>\n",
       "      <td>0.001606</td>\n",
       "      <td>0.001285</td>\n",
       "      <td>0.000749</td>\n",
       "      <td>0.000321</td>\n",
       "    </tr>\n",
       "  </tbody>\n",
       "</table>\n",
       "<p>1 rows × 21 columns</p>\n",
       "</div>"
      ],
      "text/plain": [
       "             CA        TX        NY        IL       NJ        GA        OH  \\\n",
       "state  0.305214  0.270207  0.180602  0.064982  0.03308  0.030511  0.026764   \n",
       "\n",
       "             NV        PA       AZ  ...        OR       MD        DC  \\\n",
       "state  0.016701  0.016165  0.01381  ...  0.008564  0.00653  0.005567   \n",
       "\n",
       "             WI        IA       NM        CT        RI        AR        IN  \n",
       "state  0.004496  0.002355  0.00182  0.001606  0.001285  0.000749  0.000321  \n",
       "\n",
       "[1 rows x 21 columns]"
      ]
     },
     "metadata": {},
     "output_type": "display_data"
    },
    {
     "name": "stdout",
     "output_type": "stream",
     "text": [
      "We can see for the larger states in the ds, the age distribution is not very different . \n",
      "for example NV is 1.7% of the records. this leads me to complete age values by overall average (and not by state)\n",
      "\n",
      "Overall stats for user age - a bit shifted right (mean>median): \n"
     ]
    },
    {
     "data": {
      "text/html": [
       "<div>\n",
       "<style scoped>\n",
       "    .dataframe tbody tr th:only-of-type {\n",
       "        vertical-align: middle;\n",
       "    }\n",
       "\n",
       "    .dataframe tbody tr th {\n",
       "        vertical-align: top;\n",
       "    }\n",
       "\n",
       "    .dataframe thead th {\n",
       "        text-align: right;\n",
       "    }\n",
       "</style>\n",
       "<table border=\"1\" class=\"dataframe\">\n",
       "  <thead>\n",
       "    <tr style=\"text-align: right;\">\n",
       "      <th></th>\n",
       "      <th>count</th>\n",
       "      <th>mean</th>\n",
       "      <th>std</th>\n",
       "      <th>min</th>\n",
       "      <th>25%</th>\n",
       "      <th>50%</th>\n",
       "      <th>75%</th>\n",
       "      <th>max</th>\n",
       "    </tr>\n",
       "  </thead>\n",
       "  <tbody>\n",
       "    <tr>\n",
       "      <th>user_age</th>\n",
       "      <td>9282.0</td>\n",
       "      <td>31.016591</td>\n",
       "      <td>10.008182</td>\n",
       "      <td>18.0</td>\n",
       "      <td>24.0</td>\n",
       "      <td>28.0</td>\n",
       "      <td>35.0</td>\n",
       "      <td>99.0</td>\n",
       "    </tr>\n",
       "  </tbody>\n",
       "</table>\n",
       "</div>"
      ],
      "text/plain": [
       "           count       mean        std   min   25%   50%   75%   max\n",
       "user_age  9282.0  31.016591  10.008182  18.0  24.0  28.0  35.0  99.0"
      ]
     },
     "metadata": {},
     "output_type": "display_data"
    },
    {
     "name": "stdout",
     "output_type": "stream",
     "text": [
      "Completing Nan age values with 31\n"
     ]
    }
   ],
   "source": [
    "# user age \n",
    "sns.set(rc={'figure.figsize':(9,6)})\n",
    "df.groupby('state').user_age.mean()\n",
    "sns.boxenplot(x='state',y='user_age',data=df, palette='crest', \n",
    "              order= df.state.value_counts().index.tolist(), showfliers=False);\n",
    "plt.title('Age distribution per state')\n",
    "plt.show()\n",
    "display(df.state.value_counts(normalize=True).to_frame().T)\n",
    "\n",
    "print(\"\"\"We can see for the larger states in the ds, the age distribution is not very different . \n",
    "for example NV is 1.7% of the records. this leads me to complete age values by overall average (and not by state)\"\"\")\n",
    "\n",
    "print('\\nOverall stats for user age - a bit shifted right (mean>median): ')\n",
    "display(df.user_age.describe().to_frame().T)\n",
    "\n",
    "age_fill_val= int(df.user_age.mean())\n",
    "print(f'Completing Nan age values with {age_fill_val}')"
   ]
  },
  {
   "cell_type": "code",
   "execution_count": 12,
   "metadata": {
    "ExecuteTime": {
     "end_time": "2021-01-07T11:55:26.210084Z",
     "start_time": "2021-01-07T11:55:26.105219Z"
    }
   },
   "outputs": [
    {
     "data": {
      "text/plain": [
       "debit      0.585143\n",
       "credit     0.399914\n",
       "prepaid    0.014943\n",
       "Name: card_type, dtype: float64"
      ]
     },
     "execution_count": 12,
     "metadata": {},
     "output_type": "execute_result"
    }
   ],
   "source": [
    "# card type proportions\n",
    "df.card_type.value_counts(normalize=True)"
   ]
  },
  {
   "cell_type": "markdown",
   "metadata": {},
   "source": [
    "> **Missing values analysis summary:**\n",
    "1. `square_ft` - has 97% missing records. there's not much to do with this no-information feature, so we'll drop the column all together. on the intuition level doesn't seem to predictive to claim or not (not much variance in house sized) so the 3% won't contribute too much.\n",
    "1. `coast` - distance from coast. this is for states with a coast line (i.e CA) . i've decided states with less than 10% of records having coast distance,  will be classified as no-coast state. for the no coast state, we'll place 999 as value\n",
    "1. `portable_electronics` - we'll fill missing values with 0 (as no electronics) \n",
    "1. `user_age` - we'll fill missing values with the overall average user age as we saw there's no much differance across states\n",
    "1. `card_type` - i'll complete the missing values with `unknown` additional category, as the dataset is about 50:50 between credit and debit"
   ]
  },
  {
   "cell_type": "code",
   "execution_count": 13,
   "metadata": {
    "ExecuteTime": {
     "end_time": "2021-01-07T11:55:26.254253Z",
     "start_time": "2021-01-07T11:55:26.216016Z"
    }
   },
   "outputs": [],
   "source": [
    "# complete missing values - on full dataset (based on train results)\n",
    "df_data['is_coast_country']= df_data.state.map(coast_state_dict)\n",
    "df_data['coast_f']= np.where(df_data.is_coast_country==1, df_data.coast, 999)\n",
    "\n",
    "df_data['portable_electronics']= df_data.portable_electronics.fillna(0)\n",
    "df_data['user_age']= df_data.user_age.fillna(age_fill_val)\n",
    "df_data['card_type']= df_data.card_type.fillna('unknown')"
   ]
  },
  {
   "cell_type": "markdown",
   "metadata": {},
   "source": [
    "### Categorical features\n",
    "\n",
    "algorithms know to work with binary/numeric data. for the categorical features we'll need to either do one-hot-encoding ('spread' the categories to 1/0) or for ordinal features encode with int.\n",
    "\n",
    "- I am contemplating if for state I should use OHE (multiple binary columns can also lose their effect) or to code them with int range although there's no ordianl logic. i'll check both options"
   ]
  },
  {
   "cell_type": "code",
   "execution_count": 14,
   "metadata": {
    "ExecuteTime": {
     "end_time": "2021-01-07T11:55:26.320547Z",
     "start_time": "2021-01-07T11:55:26.262272Z"
    }
   },
   "outputs": [
    {
     "name": "stdout",
     "output_type": "stream",
     "text": [
      "Our categorical features are: ['state', 'product', 'fire_housing_proximity', 'card_type', 'df_type']\n",
      "seems like firehousing proximity means number of firehouses around the rental. so we'll make this an int as it should be\n",
      "after fixing fire_housing: ['state', 'product', 'card_type', 'df_type']\n"
     ]
    }
   ],
   "source": [
    "# our categorical features\n",
    "print('Our categorical features are:', df_data.select_dtypes(include='object').columns.tolist())\n",
    "\n",
    "# checking firehousing :\n",
    "df.fire_housing_proximity.value_counts()\n",
    "print(\"seems like firehousing proximity means number of firehouses around the rental. so we'll make this an int as it should be\")\n",
    "\n",
    "df_data['fire_housing_proximity']= df_data.fire_housing_proximity.apply(lambda x: x if x.isdigit() else\n",
    "                                                              ''.join(c for c in x if c.isdigit()) ).astype(int)\n",
    "\n",
    "print('after fixing fire_housing:', df_data.select_dtypes(include='object').columns.tolist())"
   ]
  },
  {
   "cell_type": "markdown",
   "metadata": {},
   "source": [
    "**State to integer**: since there are a lot of states, i wouldn't want to create so many dummies. coding to an int variable although there's no ordianl logic here, is pretty random, so i'll rank the states by size, and that will be their codes. that will encorporating some 'magniture' value, their weight, thus ordinality"
   ]
  },
  {
   "cell_type": "code",
   "execution_count": 15,
   "metadata": {
    "ExecuteTime": {
     "end_time": "2021-01-07T11:55:26.347680Z",
     "start_time": "2021-01-07T11:55:26.324831Z"
    }
   },
   "outputs": [],
   "source": [
    "# states to int \n",
    "state_int_dict= {s:i for i,s in enumerate(df.state.value_counts().index.tolist())} #based on train states - luckily no missing states\n",
    "df_data['state_int']= df_data.state.map(state_int_dict)\n",
    "\n",
    "# since i'm not sure (and intrigued) i'll also create OHE from country\n",
    "state_ohe= pd.get_dummies(df_data.state,prefix='state_')"
   ]
  },
  {
   "cell_type": "code",
   "execution_count": 16,
   "metadata": {
    "ExecuteTime": {
     "end_time": "2021-01-07T11:55:26.382868Z",
     "start_time": "2021-01-07T11:55:26.359323Z"
    }
   },
   "outputs": [],
   "source": [
    "# categorical to OHI\n",
    "card_ohe= pd.get_dummies(df_data.card_type,prefix='card_')\n",
    "product_ohe= pd.get_dummies(df_data['product'],prefix='product_')\n",
    "\n",
    "df_ohe= pd.concat([card_ohe, product_ohe, state_ohe],axis=1)"
   ]
  },
  {
   "cell_type": "markdown",
   "metadata": {},
   "source": [
    "### additional Feature engineering"
   ]
  },
  {
   "cell_type": "code",
   "execution_count": 17,
   "metadata": {
    "ExecuteTime": {
     "end_time": "2021-01-07T11:55:26.400196Z",
     "start_time": "2021-01-07T11:55:26.389992Z"
    }
   },
   "outputs": [],
   "source": [
    "#is returning user \n",
    "df_data['is_returning_user']= df_data.previous_policies>1"
   ]
  },
  {
   "cell_type": "markdown",
   "metadata": {},
   "source": [
    "## Fitting a model"
   ]
  },
  {
   "cell_type": "code",
   "execution_count": 18,
   "metadata": {
    "ExecuteTime": {
     "end_time": "2021-01-07T11:55:26.430325Z",
     "start_time": "2021-01-07T11:55:26.407896Z"
    }
   },
   "outputs": [
    {
     "name": "stdout",
     "output_type": "stream",
     "text": [
      "False    0.976662\n",
      "True     0.023338\n",
      "Name: target, dtype: float64\n",
      "There's 2.3% chance for a claim. as we saw earlier, very imbalanced 0/1 labels\n"
     ]
    }
   ],
   "source": [
    "print(df.target.value_counts(normalize=True))\n",
    "\n",
    "print(f\"There's {round(df.target.value_counts(normalize=True)[True]*100,1)}% chance for a claim. as we saw earlier, very imbalanced 0/1 labels\")"
   ]
  },
  {
   "cell_type": "markdown",
   "metadata": {},
   "source": [
    "> **Model Evaluation**: For an imbalanced ds we don't want to use accuracy to evaluate the model . \n",
    "- i.e we can have very high accuracy score, but it represents mostly the prediction accuracy of 0 , and very lously for 1\n",
    "\n",
    "- Precision: the % of records identified correctly as positive out of all identified positives TP/(TP+FP).it measures the probability of detection of true value out of predicted true . the % of actually true in the prediciton.\n",
    "- **Recall**: summarizes how well the positive class was predicted. Identify correctly the trues : TP/ (TP+FN). it's ability to find all the true labels\n",
    "- when the FP cost is more expensive, we want to track precision. but i would think in our case FN is more expensive as we don't want to miss predicting a claim.so we want Recall as high as possible.  \n",
    "- While recall expresses the ability to find all relevant instances in a dataset, precision expresses the proportion of the data points our model says was relevant actually were relevant. we don't want FP to explode but we can have it high (prec. low) \n",
    "\n",
    "- we will use **PR curve and AUC** . The focus of the PR curve on the minority class makes it an effective diagnostic for imbalanced binary classification models\n",
    "    - PR AUC to compare models\n",
    "    - PR curve to determined the TH for the selected model to predict 1/0\n"
   ]
  },
  {
   "cell_type": "markdown",
   "metadata": {},
   "source": [
    "### setting train-val-test dfs"
   ]
  },
  {
   "cell_type": "code",
   "execution_count": 445,
   "metadata": {
    "ExecuteTime": {
     "end_time": "2021-01-08T10:19:30.020061Z",
     "start_time": "2021-01-08T10:19:29.928303Z"
    }
   },
   "outputs": [
    {
     "name": "stdout",
     "output_type": "stream",
     "text": [
      "we drop from X: ['id', 'user_id', 'square_ft', 'coast', 'target']\n"
     ]
    }
   ],
   "source": [
    "modeling_features_ex_ct= ['state_int','postal_code', 'is_coast_country', 'coast_f',\n",
    "'high_risk_dog', 'has_fire_alarm', 'has_burglar_alarm', 'fire_housing_proximity',\n",
    "'portable_electronics','previous_policies','user_age', 'is_returning_user' ]\n",
    "\n",
    "print('we drop from X:',[f for f in df_data.select_dtypes(exclude='object').columns if f not in modeling_features_ex_ct])\n",
    "\n",
    "df_train= df_data.loc[df_data.df_type=='tr',modeling_features_ex_ct+['target']].join(df_ohe)\n",
    "x_train,y_train = df_train.drop('target',axis=1), df_train.target\n",
    "\n",
    "df_val= df_data.loc[df_data.df_type=='val',modeling_features_ex_ct+['target']].join(df_ohe)\n",
    "x_val,y_val = df_val.drop('target',axis=1), df_val.target\n",
    "\n",
    "df_test= df_data.loc[df_data.df_type=='ts',modeling_features_ex_ct+['target']].join(df_ohe)\n",
    "x_test,y_test = df_test.drop('target',axis=1), df_test.target"
   ]
  },
  {
   "cell_type": "code",
   "execution_count": 1,
   "metadata": {
    "ExecuteTime": {
     "end_time": "2021-03-16T17:34:22.674384Z",
     "start_time": "2021-03-16T17:34:22.426022Z"
    }
   },
   "outputs": [
    {
     "data": {
      "text/plain": [
       "4.6875"
      ]
     },
     "execution_count": 1,
     "metadata": {},
     "output_type": "execute_result"
    }
   ],
   "source": [
    "150/32\n"
   ]
  },
  {
   "cell_type": "markdown",
   "metadata": {},
   "source": [
    "### Fitting models"
   ]
  },
  {
   "cell_type": "code",
   "execution_count": 21,
   "metadata": {
    "ExecuteTime": {
     "end_time": "2021-01-07T11:55:26.838499Z",
     "start_time": "2021-01-07T11:55:26.586394Z"
    }
   },
   "outputs": [],
   "source": [
    "from sklearn import metrics"
   ]
  },
  {
   "cell_type": "code",
   "execution_count": 122,
   "metadata": {
    "ExecuteTime": {
     "end_time": "2021-01-07T14:59:23.232494Z",
     "start_time": "2021-01-07T14:59:23.027817Z"
    }
   },
   "outputs": [
    {
     "name": "stdout",
     "output_type": "stream",
     "text": [
      "LogisticRegression  - PR AUC: 0.018\n"
     ]
    }
   ],
   "source": [
    "from sklearn.linear_model import LogisticRegression \n",
    "\n",
    "lr = LogisticRegression()\n",
    "lr.fit(x_train,y_train)\n",
    "lr_y_pred = lr.predict(x_val)\n",
    "\n",
    "precision, recall, _ = metrics.precision_recall_curve(y_val, lr.predict_proba(x_val)[:, 1])\n",
    "lr_auc = metrics.auc(recall, precision)\n",
    "# lr_mcc= metrics.matthews_corrcoef(y_val, lr_y_pred)\n",
    "\n",
    "print(f'LogisticRegression  - PR AUC: {round(lr_auc,3)}')"
   ]
  },
  {
   "cell_type": "code",
   "execution_count": 446,
   "metadata": {
    "ExecuteTime": {
     "end_time": "2021-01-08T10:19:35.920506Z",
     "start_time": "2021-01-08T10:19:35.785251Z"
    }
   },
   "outputs": [
    {
     "name": "stdout",
     "output_type": "stream",
     "text": [
      "LogisticRegression- no ohe  - PR AUC: 0.018\n"
     ]
    }
   ],
   "source": [
    "# check the OHE and not -- the same \n",
    "x_train_n_s_ohe= x_train.drop([sc for sc in df_ohe.columns if sc.startswith('state')],axis=1)\n",
    "x_val_n_s_ohe= x_val.drop([sc for sc in df_ohe.columns if sc.startswith('state')],axis=1)\n",
    "\n",
    "lr.fit(x_train_n_s_ohe,y_train)\n",
    "lr1_y_pred = lr.predict(x_val_n_s_ohe)\n",
    "\n",
    "precision, recall, _ = metrics.precision_recall_curve(y_val, lr.predict_proba(x_val_n_s_ohe)[:, 1])\n",
    "lr1_auc = metrics.auc(recall, precision)\n",
    "# lr1_mcc= metrics.matthews_corrcoef(y_val, lr1_y_pred)\n",
    "\n",
    "print(f'LogisticRegression- no ohe  - PR AUC: {round(lr1_auc,3)}')"
   ]
  },
  {
   "cell_type": "markdown",
   "metadata": {},
   "source": [
    "> no difference when using ohe, so dropping this direction. not sure if logistic regression is the model to see such difference, but anyways, i'll keep working with the dummies"
   ]
  },
  {
   "cell_type": "code",
   "execution_count": 124,
   "metadata": {
    "ExecuteTime": {
     "end_time": "2021-01-07T14:59:49.860363Z",
     "start_time": "2021-01-07T14:59:49.803157Z"
    }
   },
   "outputs": [
    {
     "name": "stdout",
     "output_type": "stream",
     "text": [
      "NaiveBayes  - PR AUC: 0.021; \n"
     ]
    }
   ],
   "source": [
    "from sklearn.naive_bayes import GaussianNB\n",
    "\n",
    "nb = GaussianNB()\n",
    "nb.fit(x_train,y_train)\n",
    "nb_y_pred = nb.predict(x_val)\n",
    "\n",
    "precision, recall, _ = metrics.precision_recall_curve(y_val, nb.predict_proba(x_val)[:, 1])\n",
    "nb_auc = metrics.auc(recall, precision)\n",
    "# nb_mcc= metrics.matthews_corrcoef(y_val, nb_y_pred)\n",
    "\n",
    "print(f'NaiveBayes  - PR AUC: {round(nb_auc,3)}; ')"
   ]
  },
  {
   "cell_type": "code",
   "execution_count": 125,
   "metadata": {
    "ExecuteTime": {
     "end_time": "2021-01-07T15:00:08.344282Z",
     "start_time": "2021-01-07T15:00:05.705166Z"
    }
   },
   "outputs": [
    {
     "name": "stdout",
     "output_type": "stream",
     "text": [
      "XGBoost:   - PR AUC: 0.027; \n"
     ]
    }
   ],
   "source": [
    "import xgboost\n",
    "\n",
    "xgb= xgboost.XGBClassifier(random_state=123)\n",
    "xgb.fit(x_train,y_train)\n",
    "xgb_y_pred = xgb.predict(x_val)\n",
    "\n",
    "precision, recall, _ = metrics.precision_recall_curve(y_val, xgb.predict_proba(x_val)[:, 1])\n",
    "xgb_auc = metrics.auc(recall, precision)\n",
    "# xgb_mcc= metrics.matthews_corrcoef(y_val, xgb_y_pred)\n",
    "\n",
    "print(f'XGBoost:   - PR AUC: {round(xgb_auc,3)}; ')"
   ]
  },
  {
   "cell_type": "code",
   "execution_count": 126,
   "metadata": {
    "ExecuteTime": {
     "end_time": "2021-01-07T15:00:12.342653Z",
     "start_time": "2021-01-07T15:00:11.742886Z"
    }
   },
   "outputs": [
    {
     "data": {
      "text/plain": [
       "<sklearn.metrics._plot.precision_recall_curve.PrecisionRecallDisplay at 0x7f9126f8aba8>"
      ]
     },
     "execution_count": 126,
     "metadata": {},
     "output_type": "execute_result"
    },
    {
     "data": {
      "image/png": "[encoded data removed]",
      "text/plain": [
       "<Figure size 648x432 with 1 Axes>"
      ]
     },
     "metadata": {},
     "output_type": "display_data"
    }
   ],
   "source": [
    "metrics.plot_precision_recall_curve(xgb, x_val, y_val)"
   ]
  },
  {
   "cell_type": "code",
   "execution_count": 488,
   "metadata": {
    "ExecuteTime": {
     "end_time": "2021-01-08T10:49:09.489267Z",
     "start_time": "2021-01-08T10:48:59.716118Z"
    }
   },
   "outputs": [
    {
     "name": "stdout",
     "output_type": "stream",
     "text": [
      "CatBoost:   - PR AUC: 0.035; \n"
     ]
    }
   ],
   "source": [
    "# lets see if catboost with its categorical features handling does better job than xgb w OHE\n",
    "from catboost import CatBoostClassifier\n",
    "\n",
    "x_tr_n_ohe= x_train_n_s_ohe.drop([c for c in x_train_n_s_ohe.columns if \n",
    "                                  (c.startswith('product') or c.startswith('card'))],axis=1).join(df_data[['product','state','card_type']])\n",
    "x_val_n_ohe= x_val_n_s_ohe.drop([c for c in x_val_n_s_ohe.columns if (c.startswith('product') or c.startswith('card'))],axis=1).join(df_data[['product','state','card_type']])\n",
    "\n",
    "\n",
    "ctb = CatBoostClassifier(random_seed=123,silent=True)\n",
    "ctb.fit(x_tr_n_ohe, y_train,\n",
    "        cat_features=range(x_tr_n_ohe.shape[1]-3,x_tr_n_ohe.shape[1]))\n",
    "\n",
    "ctb_y_pred = ctb.predict(x_val_n_ohe)\n",
    "\n",
    "precision, recall, _ = metrics.precision_recall_curve(y_val, ctb.predict_proba(x_val_n_ohe)[:, 1])\n",
    "ctb_auc = metrics.auc(recall, precision)\n",
    "# ctb_mcc= metrics.matthews_corrcoef(y_val, ctb_y_pred.astype('bool'))\n",
    "\n",
    "print(f'CatBoost:   - PR AUC: {round(ctb_auc,3)}; ')"
   ]
  },
  {
   "cell_type": "code",
   "execution_count": 464,
   "metadata": {
    "ExecuteTime": {
     "end_time": "2021-01-08T10:29:09.793599Z",
     "start_time": "2021-01-08T10:29:09.130445Z"
    }
   },
   "outputs": [
    {
     "data": {
      "text/plain": [
       "[<matplotlib.lines.Line2D at 0x7f90ffef3a58>]"
      ]
     },
     "execution_count": 464,
     "metadata": {},
     "output_type": "execute_result"
    },
    {
     "data": {
      "image/png": "[encoded data removed]",
      "text/plain": [
       "<Figure size 648x432 with 1 Axes>"
      ]
     },
     "metadata": {},
     "output_type": "display_data"
    }
   ],
   "source": [
    "plt.plot(recall, precision, marker='.', label='CatBoost')"
   ]
  },
  {
   "cell_type": "markdown",
   "metadata": {},
   "source": [
    "so catboost with it's categorical handeling did a better job than xgboost with our cat handeling"
   ]
  },
  {
   "cell_type": "code",
   "execution_count": 217,
   "metadata": {
    "ExecuteTime": {
     "end_time": "2021-01-07T20:52:35.536320Z",
     "start_time": "2021-01-07T20:52:35.463815Z"
    }
   },
   "outputs": [
    {
     "name": "stdout",
     "output_type": "stream",
     "text": [
      "DecisionTree: PR AUC: 0.043; \n"
     ]
    }
   ],
   "source": [
    "from sklearn.tree import DecisionTreeClassifier\n",
    "\n",
    "cart = DecisionTreeClassifier(random_state=123)\n",
    "cart.fit(x_train,y_train)\n",
    "cart_y_pred = cart.predict(x_val)\n",
    "\n",
    "precision, recall, _ = metrics.precision_recall_curve(y_val, cart.predict_proba(x_val)[:, 1])\n",
    "cart_auc = metrics.auc(recall, precision)\n",
    "# cart_mcc= metrics.matthews_corrcoef(y_val, cart_y_pred)\n",
    "\n",
    "print(f'DecisionTree: PR AUC: {round(cart_auc,3)}; ')"
   ]
  },
  {
   "cell_type": "code",
   "execution_count": 219,
   "metadata": {
    "ExecuteTime": {
     "end_time": "2021-01-07T20:53:08.173389Z",
     "start_time": "2021-01-07T20:53:07.739469Z"
    }
   },
   "outputs": [
    {
     "data": {
      "text/plain": [
       "[<matplotlib.lines.Line2D at 0x7f9118d365c0>]"
      ]
     },
     "execution_count": 219,
     "metadata": {},
     "output_type": "execute_result"
    },
    {
     "data": {
      "image/png": "[encoded data removed]",
      "text/plain": [
       "<Figure size 648x432 with 1 Axes>"
      ]
     },
     "metadata": {},
     "output_type": "display_data"
    }
   ],
   "source": [
    "plt.plot(recall, precision, marker='.', label='cart')"
   ]
  },
  {
   "cell_type": "code",
   "execution_count": 220,
   "metadata": {
    "ExecuteTime": {
     "end_time": "2021-01-07T20:53:27.766998Z",
     "start_time": "2021-01-07T20:53:18.138003Z"
    }
   },
   "outputs": [
    {
     "name": "stdout",
     "output_type": "stream",
     "text": [
      "RandomForest: PR AUC: 0.024; \n"
     ]
    }
   ],
   "source": [
    "from sklearn.ensemble import RandomForestClassifier\n",
    "\n",
    "rf = RandomForestClassifier(n_estimators = 1000,random_state = 123)\n",
    "rf.fit(x_train,y_train)\n",
    "rf_y_pred = rf.predict(x_val)\n",
    "\n",
    "precision, recall, _ = metrics.precision_recall_curve(y_val, rf.predict_proba(x_val)[:, 1])\n",
    "rf_auc = metrics.auc(recall, precision)\n",
    "# rf_mcc= metrics.matthews_corrcoef(y_val, rf_y_pred)\n",
    "\n",
    "print(f\"RandomForest: PR AUC: {round(rf_auc,3)}; \")"
   ]
  },
  {
   "cell_type": "code",
   "execution_count": 141,
   "metadata": {
    "ExecuteTime": {
     "end_time": "2021-01-07T15:28:29.052322Z",
     "start_time": "2021-01-07T15:28:28.221699Z"
    }
   },
   "outputs": [
    {
     "data": {
      "image/png": "[encoded data removed]",
      "text/plain": [
       "<Figure size 648x432 with 1 Axes>"
      ]
     },
     "metadata": {},
     "output_type": "display_data"
    }
   ],
   "source": [
    "metrics.plot_precision_recall_curve(rf, x_val, y_val);"
   ]
  },
  {
   "cell_type": "code",
   "execution_count": 143,
   "metadata": {
    "ExecuteTime": {
     "end_time": "2021-01-07T15:31:50.901265Z",
     "start_time": "2021-01-07T15:31:50.141493Z"
    }
   },
   "outputs": [
    {
     "name": "stdout",
     "output_type": "stream",
     "text": [
      "SVM: PR AUC: 0.03; \n"
     ]
    }
   ],
   "source": [
    "from sklearn.svm import SVC \n",
    "\n",
    "svm = SVC(kernel='sigmoid') \n",
    "svm.fit(x_train, y_train) \n",
    "svm_y_pred = svm.predict(x_val)       # Predict using classifier TH.\n",
    "\n",
    "svm_predict_proba= svm.decision_function(x_val) # svm doesn't have predict_proba. using descision_function instead \n",
    "\n",
    "precision, recall, _ = metrics.precision_recall_curve(y_val, svm_predict_proba) \n",
    "svm_auc = metrics.auc(recall, precision)\n",
    "\n",
    "print(f\"SVM: PR AUC: {round(svm_auc,3)}; \")"
   ]
  },
  {
   "cell_type": "markdown",
   "metadata": {},
   "source": [
    "**Model fitting sumaary**\n",
    "> - lets stop here. the best peforming model in terms of PR-AUC is **DecisionTree** classifier\n",
    "- the simple LogisticRegression and NB gave very low results, but that's just warmup. from there I continued to gradient-decsent based algos where **Catboost** did quite nicely. from there continued to DecisionTree based, and it's a bit surprising that cart performed better than RF which is ensamble of trees (if i'm not wrong :)). then i tried SVM , kernel based with sigmoid kernel , which performed like the gradient descent based. \n",
    "\n",
    "> additional improvements if I had more time:\n",
    "- features selection - run a loop on the features combinations and see which combinations perform best \n",
    "- try to add additional features like age group that i didn't include, and interactions like fire_alram=1Xn_firehouses)\n",
    "- read on classifiers that work well with high imbalanced classes (as we saw, DecisionTree does not)\n",
    "\n",
    "\n"
   ]
  },
  {
   "cell_type": "markdown",
   "metadata": {},
   "source": [
    "## Selected model"
   ]
  },
  {
   "cell_type": "markdown",
   "metadata": {
    "ExecuteTime": {
     "end_time": "2021-01-07T16:04:59.978888Z",
     "start_time": "2021-01-07T16:04:59.971062Z"
    }
   },
   "source": [
    "lets explore the results by the highest AUC model - cart (something feels wrong there)"
   ]
  },
  {
   "cell_type": "code",
   "execution_count": 186,
   "metadata": {
    "ExecuteTime": {
     "end_time": "2021-01-07T16:06:01.858277Z",
     "start_time": "2021-01-07T16:06:01.789018Z"
    }
   },
   "outputs": [
    {
     "data": {
      "text/html": [
       "<div>\n",
       "<style scoped>\n",
       "    .dataframe tbody tr th:only-of-type {\n",
       "        vertical-align: middle;\n",
       "    }\n",
       "\n",
       "    .dataframe tbody tr th {\n",
       "        vertical-align: top;\n",
       "    }\n",
       "\n",
       "    .dataframe thead th {\n",
       "        text-align: right;\n",
       "    }\n",
       "</style>\n",
       "<table border=\"1\" class=\"dataframe\">\n",
       "  <thead>\n",
       "    <tr style=\"text-align: right;\">\n",
       "      <th></th>\n",
       "      <th>prob_of_t</th>\n",
       "      <th>target</th>\n",
       "    </tr>\n",
       "  </thead>\n",
       "  <tbody>\n",
       "    <tr>\n",
       "      <th>1401</th>\n",
       "      <td>1.0</td>\n",
       "      <td>False</td>\n",
       "    </tr>\n",
       "    <tr>\n",
       "      <th>942</th>\n",
       "      <td>1.0</td>\n",
       "      <td>False</td>\n",
       "    </tr>\n",
       "    <tr>\n",
       "      <th>422</th>\n",
       "      <td>1.0</td>\n",
       "      <td>False</td>\n",
       "    </tr>\n",
       "    <tr>\n",
       "      <th>936</th>\n",
       "      <td>1.0</td>\n",
       "      <td>False</td>\n",
       "    </tr>\n",
       "    <tr>\n",
       "      <th>730</th>\n",
       "      <td>1.0</td>\n",
       "      <td>False</td>\n",
       "    </tr>\n",
       "    <tr>\n",
       "      <th>509</th>\n",
       "      <td>1.0</td>\n",
       "      <td>False</td>\n",
       "    </tr>\n",
       "    <tr>\n",
       "      <th>1102</th>\n",
       "      <td>1.0</td>\n",
       "      <td>False</td>\n",
       "    </tr>\n",
       "    <tr>\n",
       "      <th>895</th>\n",
       "      <td>0.5</td>\n",
       "      <td>True</td>\n",
       "    </tr>\n",
       "    <tr>\n",
       "      <th>1123</th>\n",
       "      <td>0.5</td>\n",
       "      <td>False</td>\n",
       "    </tr>\n",
       "    <tr>\n",
       "      <th>1292</th>\n",
       "      <td>0.0</td>\n",
       "      <td>False</td>\n",
       "    </tr>\n",
       "  </tbody>\n",
       "</table>\n",
       "</div>"
      ],
      "text/plain": [
       "      prob_of_t  target\n",
       "1401        1.0   False\n",
       "942         1.0   False\n",
       "422         1.0   False\n",
       "936         1.0   False\n",
       "730         1.0   False\n",
       "509         1.0   False\n",
       "1102        1.0   False\n",
       "895         0.5    True\n",
       "1123        0.5   False\n",
       "1292        0.0   False"
      ]
     },
     "metadata": {},
     "output_type": "display_data"
    },
    {
     "data": {
      "text/plain": [
       "0.0    1845\n",
       "1.0      47\n",
       "0.5       2\n",
       "Name: prob_of_t, dtype: int64"
      ]
     },
     "execution_count": 186,
     "metadata": {},
     "output_type": "execute_result"
    }
   ],
   "source": [
    "d= pd.Series(cart.predict_proba(x_val)[:, 1]).rename('prob_of_t').to_frame().join(y_val.reset_index(drop=True))\n",
    "display(d.sort_values('prob_of_t',ascending=False).iloc[40:50])\n",
    "d.prob_of_t.value_counts()"
   ]
  },
  {
   "cell_type": "markdown",
   "metadata": {},
   "source": [
    "> cart only gives us 3 probabilities for 1/0....described in their docs the prob is decided by % of samples of the same class in a leaf. due to our sensitivty to label=1 , i think it's not a very good model. \n",
    "- the high AUC is probably related to that\n",
    "\n",
    "> we will choose another model. lets look at **CatBoost**"
   ]
  },
  {
   "cell_type": "code",
   "execution_count": 472,
   "metadata": {
    "ExecuteTime": {
     "end_time": "2021-01-08T10:35:25.764608Z",
     "start_time": "2021-01-08T10:35:25.694803Z"
    }
   },
   "outputs": [
    {
     "data": {
      "text/html": [
       "<div>\n",
       "<style scoped>\n",
       "    .dataframe tbody tr th:only-of-type {\n",
       "        vertical-align: middle;\n",
       "    }\n",
       "\n",
       "    .dataframe tbody tr th {\n",
       "        vertical-align: top;\n",
       "    }\n",
       "\n",
       "    .dataframe thead th {\n",
       "        text-align: right;\n",
       "    }\n",
       "</style>\n",
       "<table border=\"1\" class=\"dataframe\">\n",
       "  <thead>\n",
       "    <tr style=\"text-align: right;\">\n",
       "      <th></th>\n",
       "      <th>prob_of_t</th>\n",
       "    </tr>\n",
       "    <tr>\n",
       "      <th>target</th>\n",
       "      <th></th>\n",
       "    </tr>\n",
       "  </thead>\n",
       "  <tbody>\n",
       "    <tr>\n",
       "      <th>False</th>\n",
       "      <td>0.021431</td>\n",
       "    </tr>\n",
       "    <tr>\n",
       "      <th>True</th>\n",
       "      <td>0.029670</td>\n",
       "    </tr>\n",
       "  </tbody>\n",
       "</table>\n",
       "</div>"
      ],
      "text/plain": [
       "        prob_of_t\n",
       "target           \n",
       "False    0.021431\n",
       "True     0.029670"
      ]
     },
     "execution_count": 472,
     "metadata": {},
     "output_type": "execute_result"
    }
   ],
   "source": [
    "d= pd.Series(ctb.predict_proba(x_val_n_ohe)[:,1]).rename('prob_of_t').to_frame().join(y_val.reset_index(drop=True))\n",
    "\n",
    "d.sort_values('prob_of_t',ascending=False)\n",
    "d.sort_values('target',ascending=False).groupby('target').mean()\n",
    "# ok so the mean prob it gives the true label is 0.029 and for 0 labels it gives 0.021 prob of true..."
   ]
  },
  {
   "cell_type": "markdown",
   "metadata": {},
   "source": [
    "> This looks better. **The selected model is CatBoost**"
   ]
  },
  {
   "cell_type": "markdown",
   "metadata": {},
   "source": [
    "### find Selected model TH "
   ]
  },
  {
   "cell_type": "code",
   "execution_count": 473,
   "metadata": {
    "ExecuteTime": {
     "end_time": "2021-01-08T10:35:27.390129Z",
     "start_time": "2021-01-08T10:35:27.366207Z"
    }
   },
   "outputs": [],
   "source": [
    "model= ctb\n",
    "\n",
    "# we take the TH list for each precision,recall pair \n",
    "precision, recall, thresholds = metrics.precision_recall_curve(y_val, model.predict_proba(x_val_n_ohe)[:, 1])"
   ]
  },
  {
   "cell_type": "code",
   "execution_count": 474,
   "metadata": {
    "ExecuteTime": {
     "end_time": "2021-01-08T10:35:28.648199Z",
     "start_time": "2021-01-08T10:35:28.259211Z"
    }
   },
   "outputs": [
    {
     "data": {
      "image/png": "[encoded data removed]",
      "text/plain": [
       "<Figure size 648x432 with 1 Axes>"
      ]
     },
     "metadata": {},
     "output_type": "display_data"
    }
   ],
   "source": [
    "# Plot each precision,recall value for the thresholds \n",
    "plt.plot(thresholds, precision[:-1], c ='r', label ='PRECISION') \n",
    "plt.plot(thresholds, recall[:-1], c ='b', label ='RECALL') \n",
    "plt.legend() \n",
    "plt.xlim(0,0.1)\n",
    "plt.xticks(np.arange(0,0.1,0.01))\n",
    "plt.yticks(np.arange(0,1,0.1));"
   ]
  },
  {
   "cell_type": "markdown",
   "metadata": {},
   "source": [
    "We want to have Recall at high, but not pay too much of a price on precision. the slope for precision is low while recall slope is high so we can potentially climb high on recall. i'd say we consider two points:\n",
    "1. recall at around .6 before the 'shoulder', TH at about 0.02\n",
    "1. recall at around .25 before the shoulder, where precision is relativly high, TH at about 0.045"
   ]
  },
  {
   "cell_type": "code",
   "execution_count": 480,
   "metadata": {
    "ExecuteTime": {
     "end_time": "2021-01-08T10:44:18.734913Z",
     "start_time": "2021-01-08T10:44:18.316264Z"
    }
   },
   "outputs": [
    {
     "data": {
      "text/html": [
       "<div>\n",
       "<style scoped>\n",
       "    .dataframe tbody tr th:only-of-type {\n",
       "        vertical-align: middle;\n",
       "    }\n",
       "\n",
       "    .dataframe tbody tr th {\n",
       "        vertical-align: top;\n",
       "    }\n",
       "\n",
       "    .dataframe thead th {\n",
       "        text-align: right;\n",
       "    }\n",
       "</style>\n",
       "<table border=\"1\" class=\"dataframe\">\n",
       "  <thead>\n",
       "    <tr style=\"text-align: right;\">\n",
       "      <th></th>\n",
       "      <th>precision</th>\n",
       "      <th>recall</th>\n",
       "      <th>TH</th>\n",
       "    </tr>\n",
       "  </thead>\n",
       "  <tbody>\n",
       "    <tr>\n",
       "      <th>1094</th>\n",
       "      <td>0.028609</td>\n",
       "      <td>0.594595</td>\n",
       "      <td>0.020003</td>\n",
       "    </tr>\n",
       "    <tr>\n",
       "      <th>1095</th>\n",
       "      <td>0.028646</td>\n",
       "      <td>0.594595</td>\n",
       "      <td>0.020009</td>\n",
       "    </tr>\n",
       "    <tr>\n",
       "      <th>1096</th>\n",
       "      <td>0.028683</td>\n",
       "      <td>0.594595</td>\n",
       "      <td>0.020011</td>\n",
       "    </tr>\n",
       "    <tr>\n",
       "      <th>1097</th>\n",
       "      <td>0.028721</td>\n",
       "      <td>0.594595</td>\n",
       "      <td>0.020026</td>\n",
       "    </tr>\n",
       "    <tr>\n",
       "      <th>1098</th>\n",
       "      <td>0.028758</td>\n",
       "      <td>0.594595</td>\n",
       "      <td>0.020026</td>\n",
       "    </tr>\n",
       "  </tbody>\n",
       "</table>\n",
       "</div>"
      ],
      "text/plain": [
       "      precision    recall        TH\n",
       "1094   0.028609  0.594595  0.020003\n",
       "1095   0.028646  0.594595  0.020009\n",
       "1096   0.028683  0.594595  0.020011\n",
       "1097   0.028721  0.594595  0.020026\n",
       "1098   0.028758  0.594595  0.020026"
      ]
     },
     "metadata": {},
     "output_type": "display_data"
    },
    {
     "data": {
      "text/html": [
       "<div>\n",
       "<style scoped>\n",
       "    .dataframe tbody tr th:only-of-type {\n",
       "        vertical-align: middle;\n",
       "    }\n",
       "\n",
       "    .dataframe tbody tr th {\n",
       "        vertical-align: top;\n",
       "    }\n",
       "\n",
       "    .dataframe thead th {\n",
       "        text-align: right;\n",
       "    }\n",
       "</style>\n",
       "<table border=\"1\" class=\"dataframe\">\n",
       "  <thead>\n",
       "    <tr style=\"text-align: right;\">\n",
       "      <th></th>\n",
       "      <th>precision</th>\n",
       "      <th>recall</th>\n",
       "      <th>TH</th>\n",
       "    </tr>\n",
       "  </thead>\n",
       "  <tbody>\n",
       "    <tr>\n",
       "      <th>1696</th>\n",
       "      <td>0.060000</td>\n",
       "      <td>0.243243</td>\n",
       "      <td>0.044997</td>\n",
       "    </tr>\n",
       "    <tr>\n",
       "      <th>1695</th>\n",
       "      <td>0.059603</td>\n",
       "      <td>0.243243</td>\n",
       "      <td>0.044960</td>\n",
       "    </tr>\n",
       "    <tr>\n",
       "      <th>1694</th>\n",
       "      <td>0.059211</td>\n",
       "      <td>0.243243</td>\n",
       "      <td>0.044910</td>\n",
       "    </tr>\n",
       "    <tr>\n",
       "      <th>1693</th>\n",
       "      <td>0.058824</td>\n",
       "      <td>0.243243</td>\n",
       "      <td>0.044855</td>\n",
       "    </tr>\n",
       "    <tr>\n",
       "      <th>1692</th>\n",
       "      <td>0.058442</td>\n",
       "      <td>0.243243</td>\n",
       "      <td>0.044764</td>\n",
       "    </tr>\n",
       "  </tbody>\n",
       "</table>\n",
       "</div>"
      ],
      "text/plain": [
       "      precision    recall        TH\n",
       "1696   0.060000  0.243243  0.044997\n",
       "1695   0.059603  0.243243  0.044960\n",
       "1694   0.059211  0.243243  0.044910\n",
       "1693   0.058824  0.243243  0.044855\n",
       "1692   0.058442  0.243243  0.044764"
      ]
     },
     "metadata": {},
     "output_type": "display_data"
    }
   ],
   "source": [
    "display(pd.DataFrame([precision, recall, thresholds],index=['precision','recall','TH']).T\\\n",
    ".loc[lambda x: (x.recall>0.5)&(x.TH>=0.02)].sort_values(['TH','precision'],).head(5))\n",
    "\n",
    "display(pd.DataFrame([precision, recall, thresholds],index=['precision','recall','TH']).T\\\n",
    ".loc[lambda x: (x.recall<0.3)&(x.TH<=0.045)].sort_values(['TH','precision'],ascending=False).head(5))"
   ]
  },
  {
   "cell_type": "code",
   "execution_count": 469,
   "metadata": {
    "ExecuteTime": {
     "end_time": "2021-01-08T10:33:47.409558Z",
     "start_time": "2021-01-08T10:33:46.763988Z"
    }
   },
   "outputs": [
    {
     "data": {
      "text/html": [
       "<div>\n",
       "<style scoped>\n",
       "    .dataframe tbody tr th:only-of-type {\n",
       "        vertical-align: middle;\n",
       "    }\n",
       "\n",
       "    .dataframe tbody tr th {\n",
       "        vertical-align: top;\n",
       "    }\n",
       "\n",
       "    .dataframe thead th {\n",
       "        text-align: right;\n",
       "    }\n",
       "</style>\n",
       "<table border=\"1\" class=\"dataframe\">\n",
       "  <thead>\n",
       "    <tr style=\"text-align: right;\">\n",
       "      <th></th>\n",
       "      <th>count</th>\n",
       "      <th>mean</th>\n",
       "      <th>std</th>\n",
       "      <th>min</th>\n",
       "      <th>50%</th>\n",
       "      <th>75%</th>\n",
       "      <th>90%</th>\n",
       "      <th>95%</th>\n",
       "      <th>max</th>\n",
       "    </tr>\n",
       "  </thead>\n",
       "  <tbody>\n",
       "    <tr>\n",
       "      <th>prob_of_t</th>\n",
       "      <td>1894.0</td>\n",
       "      <td>0.021592</td>\n",
       "      <td>0.018807</td>\n",
       "      <td>0.000245</td>\n",
       "      <td>0.016899</td>\n",
       "      <td>0.027262</td>\n",
       "      <td>0.041997</td>\n",
       "      <td>0.053849</td>\n",
       "      <td>0.252495</td>\n",
       "    </tr>\n",
       "  </tbody>\n",
       "</table>\n",
       "</div>"
      ],
      "text/plain": [
       "            count      mean       std       min       50%       75%       90%  \\\n",
       "prob_of_t  1894.0  0.021592  0.018807  0.000245  0.016899  0.027262  0.041997   \n",
       "\n",
       "                95%       max  \n",
       "prob_of_t  0.053849  0.252495  "
      ]
     },
     "execution_count": 469,
     "metadata": {},
     "output_type": "execute_result"
    },
    {
     "data": {
      "image/png": "[encoded data removed]",
      "text/plain": [
       "<Figure size 648x432 with 1 Axes>"
      ]
     },
     "metadata": {},
     "output_type": "display_data"
    }
   ],
   "source": [
    "# lets see the distribution of the probabilities \n",
    "d.prob_of_t.plot(kind='kde',xticks=np.arange(-0.1, 0.15,0.01),xlim=(-0.05,0.15))\n",
    "d.prob_of_t.describe(percentiles=[0.5,0.75,0.9,.95]).to_frame().T"
   ]
  },
  {
   "cell_type": "markdown",
   "metadata": {},
   "source": [
    "**Treshold selection summary**\n",
    "> - I think i'll go with **Threshold of 0.02**  for recall of ~60% and precision of ~3%\n",
    "    - it's recall of 60% precision of 3% Vs recall of 25% Vs precision of 6%. losing a lot on recall in the 2nd option\n",
    "- that coveres about 25% of the records which is very far from the 2% , but assuming the '1's are spreaded along this range of probabilities\n",
    "- we'll have a high % of FP , but that's a price we're willing to pay to catch around half of the trues.\n",
    "\n",
    "> if there's even a small chance of a claim we want the price to be high. or at least we want to know about it, and have the pricing algorithm consider it in the pricing (i.e weight by the predicted prob)"
   ]
  },
  {
   "cell_type": "code",
   "execution_count": 489,
   "metadata": {
    "ExecuteTime": {
     "end_time": "2021-01-08T10:49:54.238011Z",
     "start_time": "2021-01-08T10:49:54.197451Z"
    }
   },
   "outputs": [
    {
     "name": "stdout",
     "output_type": "stream",
     "text": [
      "old recall value (default TH): 1.0\n",
      "old precision value (default TH): 0.019535374868004225\n",
      "new recall value: 0.5945945945945946\n",
      "new precision value: 0.02860858257477243\n"
     ]
    }
   ],
   "source": [
    "# selected model scores on validation set with the new TH \n",
    "TH= 0.02\n",
    "new_pred= [1 if i >= TH else 0 for i in model.predict_proba(x_val_n_ohe)[:, 1]]\n",
    "\n",
    "print(\"old recall value (default TH):\", metrics.recall_score(y_val, ctb_y_pred.astype('bool'))) \n",
    "print(\"old precision value (default TH):\", metrics.precision_score(y_val, ctb_y_pred.astype('bool')))\n",
    "print(\"new recall value:\", metrics.recall_score(y_val, new_pred)) \n",
    "print(\"new precision value:\", metrics.precision_score(y_val, new_pred)) "
   ]
  },
  {
   "cell_type": "markdown",
   "metadata": {},
   "source": [
    "### Final model Evaluation"
   ]
  },
  {
   "cell_type": "code",
   "execution_count": 490,
   "metadata": {
    "ExecuteTime": {
     "end_time": "2021-01-08T10:50:03.055138Z",
     "start_time": "2021-01-08T10:50:03.003538Z"
    }
   },
   "outputs": [],
   "source": [
    "# now we'll take the test set , and see the scores for the the models' prediction with the TH\n",
    "x_test_n_ohe= x_test.drop(df_ohe.columns,axis=1).join(df_data[['product','state','card_type']])\n",
    "\n",
    "test_TH_pred= [1 if i >= TH else 0 for i in model.predict_proba(x_test_n_ohe)[:, 1]]"
   ]
  },
  {
   "cell_type": "code",
   "execution_count": 491,
   "metadata": {
    "ExecuteTime": {
     "end_time": "2021-01-08T10:50:04.915181Z",
     "start_time": "2021-01-08T10:50:04.902637Z"
    }
   },
   "outputs": [
    {
     "name": "stdout",
     "output_type": "stream",
     "text": [
      "Recall: 53.8% (we expect the model to catch that many of the true labels) \n",
      "Precision: 3.1% (we expect the model to be right in his 'true' prediction in this percent of the cases)\n"
     ]
    }
   ],
   "source": [
    "print(f\"\"\"Recall: {round(metrics.recall_score(y_test, test_TH_pred)*100,1)}% (we expect the model to catch that many of the true labels) \n",
    "Precision: {round(metrics.precision_score(y_test, test_TH_pred)*100,1)}% (we expect the model to be right in his 'true' prediction in this percent of the cases)\"\"\") \n"
   ]
  },
  {
   "cell_type": "code",
   "execution_count": 492,
   "metadata": {
    "ExecuteTime": {
     "end_time": "2021-01-08T10:50:32.710176Z",
     "start_time": "2021-01-08T10:50:32.670811Z"
    }
   },
   "outputs": [
    {
     "data": {
      "text/html": [
       "<div>\n",
       "<style scoped>\n",
       "    .dataframe tbody tr th:only-of-type {\n",
       "        vertical-align: middle;\n",
       "    }\n",
       "\n",
       "    .dataframe tbody tr th {\n",
       "        vertical-align: top;\n",
       "    }\n",
       "\n",
       "    .dataframe thead th {\n",
       "        text-align: right;\n",
       "    }\n",
       "</style>\n",
       "<table border=\"1\" class=\"dataframe\">\n",
       "  <thead>\n",
       "    <tr style=\"text-align: right;\">\n",
       "      <th></th>\n",
       "      <th>pred_0</th>\n",
       "      <th>pred_1</th>\n",
       "    </tr>\n",
       "  </thead>\n",
       "  <tbody>\n",
       "    <tr>\n",
       "      <th>act_0</th>\n",
       "      <td>699</td>\n",
       "      <td>437</td>\n",
       "    </tr>\n",
       "    <tr>\n",
       "      <th>act_1</th>\n",
       "      <td>12</td>\n",
       "      <td>14</td>\n",
       "    </tr>\n",
       "  </tbody>\n",
       "</table>\n",
       "</div>"
      ],
      "text/plain": [
       "       pred_0  pred_1\n",
       "act_0     699     437\n",
       "act_1      12      14"
      ]
     },
     "metadata": {},
     "output_type": "display_data"
    },
    {
     "name": "stdout",
     "output_type": "stream",
     "text": [
      "We can see we catch half of the true labels (14 Vs 12), \n",
      "but we falsly alert 437 cases (FPR: 38.5%)\n"
     ]
    }
   ],
   "source": [
    "res= (y_test.rename('is_claim')*1).to_frame().assign(claim_prob= model.predict_proba(x_test_n_ohe)[:, 1],\n",
    "                                               claim_pred= test_TH_pred)\n",
    "\n",
    "conf_mat= metrics.confusion_matrix(y_test,test_TH_pred) \n",
    "display(pd.DataFrame(conf_mat,index=['act_0','act_1'],columns=['pred_0','pred_1']))#[[TN,FP],[FN,TP]]\n",
    "\n",
    "print(f\"\"\"We can see we catch half of the true labels ({conf_mat[1,1]} Vs {conf_mat[1,0]}), \n",
    "but we falsly alert {conf_mat[0,1]} cases (FPR: {round(conf_mat[0,1]/sum(conf_mat[0])*100,1)}%)\"\"\")"
   ]
  },
  {
   "cell_type": "markdown",
   "metadata": {},
   "source": [
    "**Conclusion on model preformance:**\n",
    "- we have about half of the true claims predicted. that's good if we indeed want to include that in the pricing. \n",
    "- we have a pretty high FalsePositive rate of almost 40%. that might be a bit too high. 40% of 'over prices' policies\n",
    "- however, if the pricing goes by prob weight, with an exponential price increare by prob (activated by if prob>TH) then it might be ok"
   ]
  },
  {
   "cell_type": "markdown",
   "metadata": {},
   "source": [
    "## Prep for prod"
   ]
  },
  {
   "cell_type": "markdown",
   "metadata": {},
   "source": [
    "### Functions"
   ]
  },
  {
   "cell_type": "code",
   "execution_count": 456,
   "metadata": {
    "ExecuteTime": {
     "end_time": "2021-01-08T10:25:53.217791Z",
     "start_time": "2021-01-08T10:25:53.206565Z"
    },
    "code_folding": [
     0
    ]
   },
   "outputs": [],
   "source": [
    "def clean_values(input_row):\n",
    "    \"\"\"only for fire_housing_proximity\"\"\"\n",
    "    val= input_row['fire_housing_proximity']\n",
    "    if not val.isdigit():\n",
    "        new_val= int(''.join(c for c in val if c.isdigit()))\n",
    "        input_row['fire_housing_proximity']= new_val\n",
    "    else:\n",
    "        input_row['fire_housing_proximity']= int(val)\n",
    "    \n",
    "    return(input_row)"
   ]
  },
  {
   "cell_type": "code",
   "execution_count": 402,
   "metadata": {
    "ExecuteTime": {
     "end_time": "2021-01-08T09:28:44.094513Z",
     "start_time": "2021-01-08T09:28:44.087493Z"
    },
    "code_folding": [
     0
    ]
   },
   "outputs": [],
   "source": [
    "def complete_missing_values(input_row, col_to_complete=['portable_electronics','user_age','card_type'], age_fill=31):\n",
    "    com_dict= {k:v for k,v in zip(['portable_electronics','user_age','card_type'],[0,age_fill,'unknown'])}\n",
    "    for k,v in input_row.items():\n",
    "        if v is np.nan:\n",
    "            if k not in col_to_complete+['square_ft','coast']:\n",
    "                print(f'Warning! non accounted for missing value for {k}')\n",
    "            else:\n",
    "                input_row[k]= com_dict[k] if k in col_to_complete else v\n",
    "                \n",
    "    return(input_row)"
   ]
  },
  {
   "cell_type": "markdown",
   "metadata": {},
   "source": [
    "Train set didn't contain 'cosat states' with missing values. but i'll account for it here and calc the mean value"
   ]
  },
  {
   "cell_type": "code",
   "execution_count": 429,
   "metadata": {
    "ExecuteTime": {
     "end_time": "2021-01-08T10:03:35.629044Z",
     "start_time": "2021-01-08T10:03:35.604179Z"
    }
   },
   "outputs": [
    {
     "data": {
      "text/plain": [
       "{'CA': 14,\n",
       " 'CT': 13,\n",
       " 'GA': 29,\n",
       " 'IL': 17,\n",
       " 'IN': 30,\n",
       " 'MD': 28,\n",
       " 'NJ': 10,\n",
       " 'NY': 4,\n",
       " 'OR': 30,\n",
       " 'RI': 9,\n",
       " 'TX': 29,\n",
       " 'WI': 17}"
      ]
     },
     "execution_count": 429,
     "metadata": {},
     "output_type": "execute_result"
    }
   ],
   "source": [
    "df_data.loc[df_data.is_coast_country==1].coast.isna().any()\n",
    "state_coast_avg_dict= df_data.loc[df_data.is_coast_country==1].groupby('state').coast.mean().astype(int).to_dict()\n",
    "state_coast_avg_dict"
   ]
  },
  {
   "cell_type": "code",
   "execution_count": 504,
   "metadata": {
    "ExecuteTime": {
     "end_time": "2021-01-08T11:22:39.433192Z",
     "start_time": "2021-01-08T11:22:39.422438Z"
    },
    "code_folding": []
   },
   "outputs": [],
   "source": [
    "def add_features(input_row):\n",
    "    state_int_dict= {'CA': 0,'TX': 1,'NY': 2,'IL': 3,'NJ': 4,'GA': 5,'OH': 6,'NV': 7,'PA': 8,'AZ': 9,'MI': 10,'OR': 11,'MD': 12,'DC': 13,'WI': 14,'IA': 15,'NM': 16,'CT': 17,'RI': 18,'AR': 19,'IN': 20}\n",
    "    coast_state_dict= {'AR': 0,'AZ': 0,'CA': 1,'CT': 1,'DC': 0,'GA': 1,'IA': 0,'IL': 1,'IN': 1,'MD': 1,'MI': 0,'NJ': 1,'NM': 0,'NV': 0,'NY': 1,'OH': 0,'OR': 1,'PA': 0,'RI': 1,'TX': 1,'WI': 1}\n",
    "    state_coast_avg_dict= {'CA': 14,'CT': 13,'GA': 29,'IL': 17,'IN': 30,'MD': 28,'NJ': 10,'NY': 4,'OR': 30,'RI': 9,'TX': 29,'WI': 17}\n",
    "    \n",
    "    input_row['state_int']=state_int_dict[input_row['state']]\n",
    "    input_row['is_coast_country']= coast_state_dict[input_row['state']]\n",
    "    input_row['is_returning_user']= input_row['previous_policies']>1\n",
    "                                          \n",
    "    if (input_row['coast'] is np.nan) | (input_row['is_coast_country']==0):\n",
    "        input_row['coast_f']= state_coast_avg_dict[input_row['state']] if input_row['is_coast_country']==1 else 999\n",
    "    else:\n",
    "        input_row['coast_f']= input_row['coast']\n",
    "\n",
    "    return(input_row)"
   ]
  },
  {
   "cell_type": "markdown",
   "metadata": {},
   "source": [
    "### edit script input row"
   ]
  },
  {
   "cell_type": "code",
   "execution_count": 641,
   "metadata": {
    "ExecuteTime": {
     "end_time": "2021-01-08T15:19:49.208146Z",
     "start_time": "2021-01-08T15:19:49.080722Z"
    }
   },
   "outputs": [
    {
     "data": {
      "text/plain": [
       "{'id': -4081407495940146535,\n",
       " 'state': 'WI',\n",
       " 'postal_code': 53207,\n",
       " 'product': 'ho4',\n",
       " 'user_id': -8985758467679922517,\n",
       " 'square_ft': nan,\n",
       " 'high_risk_dog': 0,\n",
       " 'has_fire_alarm': True,\n",
       " 'has_burglar_alarm': False,\n",
       " 'portable_electronics': 1.0,\n",
       " 'coast': 2.0,\n",
       " 'fire_housing_proximity': '1',\n",
       " 'previous_policies': 0,\n",
       " 'user_age': 27.0,\n",
       " 'card_type': 'debit'}"
      ]
     },
     "execution_count": 641,
     "metadata": {},
     "output_type": "execute_result"
    }
   ],
   "source": [
    "some_row= pd.read_csv('lemonade_ds_coding_task_data_(2).csv').loc[77]\n",
    "input_row= dict(some_row[:-1])\n",
    "input_row"
   ]
  },
  {
   "cell_type": "code",
   "execution_count": 642,
   "metadata": {
    "ExecuteTime": {
     "end_time": "2021-01-08T15:19:52.574992Z",
     "start_time": "2021-01-08T15:19:52.552165Z"
    }
   },
   "outputs": [
    {
     "name": "stdout",
     "output_type": "stream",
     "text": [
      "After:{'id': -4081407495940146535, 'state': 'WI', 'postal_code': 53207, 'product': 'ho4', 'user_id': -8985758467679922517, 'square_ft': nan, 'high_risk_dog': 0, 'has_fire_alarm': True, 'has_burglar_alarm': False, 'portable_electronics': 1.0, 'coast': 2.0, 'fire_housing_proximity': 1, 'previous_policies': 0, 'user_age': 27.0, 'card_type': 'debit', 'state_int': 14, 'is_coast_country': 1, 'is_returning_user': False, 'coast_f': 2.0}\n"
     ]
    }
   ],
   "source": [
    "input_row_cln= clean_values(input_row)\n",
    "input_row_f= complete_missing_values(input_row_cln)\n",
    "input_row_full= add_features(input_row_f)\n",
    "print(f'After:{input_row_full}')"
   ]
  },
  {
   "cell_type": "code",
   "execution_count": 643,
   "metadata": {
    "ExecuteTime": {
     "end_time": "2021-01-08T15:20:06.018797Z",
     "start_time": "2021-01-08T15:20:06.004746Z"
    }
   },
   "outputs": [
    {
     "data": {
      "text/plain": [
       "{'state_int': 14,\n",
       " 'postal_code': 53207,\n",
       " 'is_coast_country': 1,\n",
       " 'coast_f': 2.0,\n",
       " 'high_risk_dog': 0,\n",
       " 'has_fire_alarm': True,\n",
       " 'has_burglar_alarm': False,\n",
       " 'fire_housing_proximity': 1,\n",
       " 'portable_electronics': 1.0,\n",
       " 'previous_policies': 0,\n",
       " 'user_age': 27.0,\n",
       " 'is_returning_user': False,\n",
       " 'product': 'ho4',\n",
       " 'state': 'WI',\n",
       " 'card_type': 'debit'}"
      ]
     },
     "execution_count": 643,
     "metadata": {},
     "output_type": "execute_result"
    }
   ],
   "source": [
    "COLS_ORDER= ['state_int', 'postal_code', 'is_coast_country', 'coast_f',\n",
    "       'high_risk_dog', 'has_fire_alarm', 'has_burglar_alarm',\n",
    "       'fire_housing_proximity', 'portable_electronics', 'previous_policies',\n",
    "       'user_age', 'is_returning_user', 'product', 'state', 'card_type']\n",
    "\n",
    "new_input= {k:input_row_full[k] for k in COLS_ORDER}\n",
    "new_input"
   ]
  },
  {
   "cell_type": "code",
   "execution_count": 644,
   "metadata": {
    "ExecuteTime": {
     "end_time": "2021-01-08T15:20:53.633843Z",
     "start_time": "2021-01-08T15:20:53.594427Z"
    }
   },
   "outputs": [
    {
     "data": {
      "text/plain": [
       "0.2524949215520412"
      ]
     },
     "execution_count": 644,
     "metadata": {},
     "output_type": "execute_result"
    }
   ],
   "source": [
    "model.predict_proba(list(new_input.values()))[1]#,  model.predict_proba(x_test_n_ohe.loc[29].to_frame().T)[:, 1]"
   ]
  },
  {
   "cell_type": "code",
   "execution_count": 557,
   "metadata": {
    "ExecuteTime": {
     "end_time": "2021-01-08T13:47:59.771873Z",
     "start_time": "2021-01-08T13:47:59.761083Z"
    }
   },
   "outputs": [],
   "source": [
    "#save model object\n",
    "filename = 'finalized_model'\n",
    "pickle.dump(model, open(filename, 'wb'))"
   ]
  },
  {
   "cell_type": "code",
   "execution_count": 651,
   "metadata": {
    "ExecuteTime": {
     "end_time": "2021-01-08T15:26:13.189383Z",
     "start_time": "2021-01-08T15:26:13.170776Z"
    }
   },
   "outputs": [
    {
     "data": {
      "text/plain": [
       "\"{'id': -4081407495940146535, 'state': 'WI', 'postal_code': 53207, 'product': None, 'user_id': -8985758467679922517, 'square_ft': None, 'high_risk_dog': 0, 'has_fire_alarm': True, 'has_burglar_alarm': False, 'portable_electronics': 1.0, 'coast': None, 'fire_housing_proximity': '1', 'previous_policies': 0, 'user_age': 27.0, 'card_type': 'debit'}\""
      ]
     },
     "execution_count": 651,
     "metadata": {},
     "output_type": "execute_result"
    }
   ],
   "source": [
    "\"\"\"{'id': -4081407495940146535,\n",
    " 'state': 'WI',\n",
    " 'postal_code': 53207,\n",
    " 'product': None,\n",
    " 'user_id': -8985758467679922517,\n",
    " 'square_ft': None,\n",
    " 'high_risk_dog': 0,\n",
    " 'has_fire_alarm': True,\n",
    " 'has_burglar_alarm': False,\n",
    " 'portable_electronics': 1.0,\n",
    " 'coast': None,\n",
    " 'fire_housing_proximity': '1',\n",
    " 'previous_policies': 0,\n",
    " 'user_age': 27.0,\n",
    " 'card_type': 'debit'}\"\"\".replace(\"\\n\",'')"
   ]
  }
 ],
 "metadata": {
  "kernelspec": {
   "display_name": "Python 3",
   "language": "python",
   "name": "python3"
  },
  "language_info": {
   "codemirror_mode": {
    "name": "ipython",
    "version": 3
   },
   "file_extension": ".py",
   "mimetype": "text/x-python",
   "name": "python",
   "nbconvert_exporter": "python",
   "pygments_lexer": "ipython3",
   "version": "3.6.8"
  },
  "toc": {
   "base_numbering": 1,
   "nav_menu": {},
   "number_sections": true,
   "sideBar": true,
   "skip_h1_title": true,
   "title_cell": "Table of Contents",
   "title_sidebar": "Contents",
   "toc_cell": false,
   "toc_position": {},
   "toc_section_display": true,
   "toc_window_display": false
  }
 },
 "nbformat": 4,
 "nbformat_minor": 4
}
